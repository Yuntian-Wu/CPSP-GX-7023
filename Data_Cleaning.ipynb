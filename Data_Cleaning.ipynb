{
 "cells": [
  {
   "cell_type": "markdown",
   "id": "91748a54",
   "metadata": {},
   "source": [
    "### Data\n",
    "1. Fire Incident Dispatch Data: Fire Incident Dispatch Data | NYC Open Data (cityofnewyork.us) https://data.cityofnewyork.us/Public-Safety/Fire-Incident-Dispatch-Data/8m42-w767/about_data\n",
    "\n",
    "2. Incidents Responded to by Fire Companies:Incidents Responded to by Fire Companies | NYC Open Data (cityofnewyork.us) https://data.cityofnewyork.us/Public-Safety/Incidents-Responded-to-by-Fire-Companies/tm6d-hbzd/about_data\n",
    "\n",
    "3. In-Service Alarm Box Locations:In-Service Alarm Box Locations | NYC Open Data (cityofnewyork.us) https://data.cityofnewyork.us/Public-Safety/In-Service-Alarm-Box-Locations/v57i-gtxb/data_preview"
   ]
  },
  {
   "cell_type": "code",
   "execution_count": 1,
   "id": "f1fc70ba",
   "metadata": {},
   "outputs": [],
   "source": [
    "import pandas as pd\n",
    "import requests\n",
    "from sklearn.datasets import make_classification\n",
    "from sklearn.datasets import make_blobs\n",
    "from matplotlib.pylab import plt\n",
    "import numpy as np\n",
    "%matplotlib inline\n",
    "import warnings\n",
    "import geopandas as gpd\n",
    "from urllib.request import urlopen \n",
    "import json\n",
    "import urllib\n",
    "warnings.filterwarnings('ignore')\n",
    "from zipfile import ZipFile"
   ]
  },
  {
   "cell_type": "markdown",
   "id": "18ef1534",
   "metadata": {},
   "source": [
    "#### Incidents Responded to by Fire Companies"
   ]
  },
  {
   "cell_type": "code",
   "execution_count": 2,
   "id": "0ee72e5b",
   "metadata": {},
   "outputs": [],
   "source": [
    "# Read Data \n",
    "IncidentsRespTo = pd.read_csv('Incidents_Responded_to_by_Fire_Companies.csv')"
   ]
  },
  {
   "cell_type": "code",
   "execution_count": 3,
   "id": "59df8f12",
   "metadata": {},
   "outputs": [
    {
     "data": {
      "text/html": [
       "<div>\n",
       "<style scoped>\n",
       "    .dataframe tbody tr th:only-of-type {\n",
       "        vertical-align: middle;\n",
       "    }\n",
       "\n",
       "    .dataframe tbody tr th {\n",
       "        vertical-align: top;\n",
       "    }\n",
       "\n",
       "    .dataframe thead th {\n",
       "        text-align: right;\n",
       "    }\n",
       "</style>\n",
       "<table border=\"1\" class=\"dataframe\">\n",
       "  <thead>\n",
       "    <tr style=\"text-align: right;\">\n",
       "      <th></th>\n",
       "      <th>IM_INCIDENT_KEY</th>\n",
       "      <th>FIRE_BOX</th>\n",
       "      <th>INCIDENT_TYPE_DESC</th>\n",
       "      <th>INCIDENT_DATE_TIME</th>\n",
       "      <th>ARRIVAL_DATE_TIME</th>\n",
       "      <th>UNITS_ONSCENE</th>\n",
       "      <th>LAST_UNIT_CLEARED_DATE_TIME</th>\n",
       "      <th>HIGHEST_LEVEL_DESC</th>\n",
       "      <th>TOTAL_INCIDENT_DURATION</th>\n",
       "      <th>ACTION_TAKEN1_DESC</th>\n",
       "      <th>...</th>\n",
       "      <th>ZIP_CODE</th>\n",
       "      <th>BOROUGH_DESC</th>\n",
       "      <th>FLOOR</th>\n",
       "      <th>CO_DETECTOR_PRESENT_DESC</th>\n",
       "      <th>FIRE_ORIGIN_BELOW_GRADE_FLAG</th>\n",
       "      <th>STORY_FIRE_ORIGIN_COUNT</th>\n",
       "      <th>FIRE_SPREAD_DESC</th>\n",
       "      <th>DETECTOR_PRESENCE_DESC</th>\n",
       "      <th>AES_PRESENCE_DESC</th>\n",
       "      <th>STANDPIPE_SYS_PRESENT_FLAG</th>\n",
       "    </tr>\n",
       "  </thead>\n",
       "  <tbody>\n",
       "    <tr>\n",
       "      <th>0</th>\n",
       "      <td>55672688</td>\n",
       "      <td>2147</td>\n",
       "      <td>300 - Rescue, EMS incident, other</td>\n",
       "      <td>01/01/2013 12:00:20 AM</td>\n",
       "      <td>01/01/2013 12:14:23 AM</td>\n",
       "      <td>1.0</td>\n",
       "      <td>01/01/2013 12:20:06 AM</td>\n",
       "      <td>1 - More than initial alarm, less than Signal 7-5</td>\n",
       "      <td>1186.0</td>\n",
       "      <td>00 - Action taken, other</td>\n",
       "      <td>...</td>\n",
       "      <td>10454.0</td>\n",
       "      <td>2 - Bronx</td>\n",
       "      <td>NaN</td>\n",
       "      <td>NaN</td>\n",
       "      <td>NaN</td>\n",
       "      <td>NaN</td>\n",
       "      <td>NaN</td>\n",
       "      <td>NaN</td>\n",
       "      <td>NaN</td>\n",
       "      <td>NaN</td>\n",
       "    </tr>\n",
       "    <tr>\n",
       "      <th>1</th>\n",
       "      <td>55672692</td>\n",
       "      <td>818</td>\n",
       "      <td>735A - Unwarranted alarm/defective condition o...</td>\n",
       "      <td>01/01/2013 12:00:37 AM</td>\n",
       "      <td>01/01/2013 12:09:03 AM</td>\n",
       "      <td>3.0</td>\n",
       "      <td>01/01/2013 12:30:06 AM</td>\n",
       "      <td>1 - More than initial alarm, less than Signal 7-5</td>\n",
       "      <td>1769.0</td>\n",
       "      <td>86 - Investigate</td>\n",
       "      <td>...</td>\n",
       "      <td>10036.0</td>\n",
       "      <td>1 - Manhattan</td>\n",
       "      <td>NaN</td>\n",
       "      <td>NaN</td>\n",
       "      <td>NaN</td>\n",
       "      <td>NaN</td>\n",
       "      <td>NaN</td>\n",
       "      <td>NaN</td>\n",
       "      <td>NaN</td>\n",
       "      <td>NaN</td>\n",
       "    </tr>\n",
       "    <tr>\n",
       "      <th>2</th>\n",
       "      <td>55672693</td>\n",
       "      <td>9656</td>\n",
       "      <td>300 - Rescue, EMS incident, other</td>\n",
       "      <td>01/01/2013 12:01:17 AM</td>\n",
       "      <td>01/01/2013 12:04:55 AM</td>\n",
       "      <td>1.0</td>\n",
       "      <td>01/01/2013 12:15:18 AM</td>\n",
       "      <td>1 - More than initial alarm, less than Signal 7-5</td>\n",
       "      <td>841.0</td>\n",
       "      <td>00 - Action taken, other</td>\n",
       "      <td>...</td>\n",
       "      <td>11418.0</td>\n",
       "      <td>5 - Queens</td>\n",
       "      <td>NaN</td>\n",
       "      <td>NaN</td>\n",
       "      <td>NaN</td>\n",
       "      <td>NaN</td>\n",
       "      <td>NaN</td>\n",
       "      <td>NaN</td>\n",
       "      <td>NaN</td>\n",
       "      <td>NaN</td>\n",
       "    </tr>\n",
       "    <tr>\n",
       "      <th>3</th>\n",
       "      <td>55672695</td>\n",
       "      <td>7412</td>\n",
       "      <td>412 - Gas leak (natural gas or LPG)</td>\n",
       "      <td>01/01/2013 12:02:32 AM</td>\n",
       "      <td>01/01/2013 12:07:48 AM</td>\n",
       "      <td>4.0</td>\n",
       "      <td>01/01/2013 12:40:11 AM</td>\n",
       "      <td>1 - More than initial alarm, less than Signal 7-5</td>\n",
       "      <td>2259.0</td>\n",
       "      <td>44 - Hazardous materials leak control &amp; contai...</td>\n",
       "      <td>...</td>\n",
       "      <td>11103.0</td>\n",
       "      <td>5 - Queens</td>\n",
       "      <td>1</td>\n",
       "      <td>NaN</td>\n",
       "      <td>NaN</td>\n",
       "      <td>NaN</td>\n",
       "      <td>NaN</td>\n",
       "      <td>NaN</td>\n",
       "      <td>NaN</td>\n",
       "      <td>NaN</td>\n",
       "    </tr>\n",
       "    <tr>\n",
       "      <th>4</th>\n",
       "      <td>55672697</td>\n",
       "      <td>4019</td>\n",
       "      <td>735A - Unwarranted alarm/defective condition o...</td>\n",
       "      <td>01/01/2013 12:01:49 AM</td>\n",
       "      <td>01/01/2013 12:06:27 AM</td>\n",
       "      <td>6.0</td>\n",
       "      <td>01/01/2013 12:24:56 AM</td>\n",
       "      <td>1 - More than initial alarm, less than Signal 7-5</td>\n",
       "      <td>1387.0</td>\n",
       "      <td>86 - Investigate</td>\n",
       "      <td>...</td>\n",
       "      <td>11385.0</td>\n",
       "      <td>5 - Queens</td>\n",
       "      <td>NaN</td>\n",
       "      <td>NaN</td>\n",
       "      <td>NaN</td>\n",
       "      <td>NaN</td>\n",
       "      <td>NaN</td>\n",
       "      <td>NaN</td>\n",
       "      <td>NaN</td>\n",
       "      <td>NaN</td>\n",
       "    </tr>\n",
       "  </tbody>\n",
       "</table>\n",
       "<p>5 rows × 24 columns</p>\n",
       "</div>"
      ],
      "text/plain": [
       "   IM_INCIDENT_KEY FIRE_BOX  \\\n",
       "0         55672688     2147   \n",
       "1         55672692      818   \n",
       "2         55672693     9656   \n",
       "3         55672695     7412   \n",
       "4         55672697     4019   \n",
       "\n",
       "                                  INCIDENT_TYPE_DESC      INCIDENT_DATE_TIME  \\\n",
       "0                  300 - Rescue, EMS incident, other  01/01/2013 12:00:20 AM   \n",
       "1  735A - Unwarranted alarm/defective condition o...  01/01/2013 12:00:37 AM   \n",
       "2                  300 - Rescue, EMS incident, other  01/01/2013 12:01:17 AM   \n",
       "3                412 - Gas leak (natural gas or LPG)  01/01/2013 12:02:32 AM   \n",
       "4  735A - Unwarranted alarm/defective condition o...  01/01/2013 12:01:49 AM   \n",
       "\n",
       "        ARRIVAL_DATE_TIME  UNITS_ONSCENE LAST_UNIT_CLEARED_DATE_TIME  \\\n",
       "0  01/01/2013 12:14:23 AM            1.0      01/01/2013 12:20:06 AM   \n",
       "1  01/01/2013 12:09:03 AM            3.0      01/01/2013 12:30:06 AM   \n",
       "2  01/01/2013 12:04:55 AM            1.0      01/01/2013 12:15:18 AM   \n",
       "3  01/01/2013 12:07:48 AM            4.0      01/01/2013 12:40:11 AM   \n",
       "4  01/01/2013 12:06:27 AM            6.0      01/01/2013 12:24:56 AM   \n",
       "\n",
       "                                  HIGHEST_LEVEL_DESC  TOTAL_INCIDENT_DURATION  \\\n",
       "0  1 - More than initial alarm, less than Signal 7-5                   1186.0   \n",
       "1  1 - More than initial alarm, less than Signal 7-5                   1769.0   \n",
       "2  1 - More than initial alarm, less than Signal 7-5                    841.0   \n",
       "3  1 - More than initial alarm, less than Signal 7-5                   2259.0   \n",
       "4  1 - More than initial alarm, less than Signal 7-5                   1387.0   \n",
       "\n",
       "                                  ACTION_TAKEN1_DESC  ... ZIP_CODE  \\\n",
       "0                           00 - Action taken, other  ...  10454.0   \n",
       "1                                   86 - Investigate  ...  10036.0   \n",
       "2                           00 - Action taken, other  ...  11418.0   \n",
       "3  44 - Hazardous materials leak control & contai...  ...  11103.0   \n",
       "4                                   86 - Investigate  ...  11385.0   \n",
       "\n",
       "    BOROUGH_DESC FLOOR CO_DETECTOR_PRESENT_DESC FIRE_ORIGIN_BELOW_GRADE_FLAG  \\\n",
       "0      2 - Bronx   NaN                      NaN                          NaN   \n",
       "1  1 - Manhattan   NaN                      NaN                          NaN   \n",
       "2     5 - Queens   NaN                      NaN                          NaN   \n",
       "3     5 - Queens     1                      NaN                          NaN   \n",
       "4     5 - Queens   NaN                      NaN                          NaN   \n",
       "\n",
       "  STORY_FIRE_ORIGIN_COUNT FIRE_SPREAD_DESC DETECTOR_PRESENCE_DESC  \\\n",
       "0                     NaN              NaN                    NaN   \n",
       "1                     NaN              NaN                    NaN   \n",
       "2                     NaN              NaN                    NaN   \n",
       "3                     NaN              NaN                    NaN   \n",
       "4                     NaN              NaN                    NaN   \n",
       "\n",
       "   AES_PRESENCE_DESC  STANDPIPE_SYS_PRESENT_FLAG  \n",
       "0                NaN                         NaN  \n",
       "1                NaN                         NaN  \n",
       "2                NaN                         NaN  \n",
       "3                NaN                         NaN  \n",
       "4                NaN                         NaN  \n",
       "\n",
       "[5 rows x 24 columns]"
      ]
     },
     "execution_count": 3,
     "metadata": {},
     "output_type": "execute_result"
    }
   ],
   "source": [
    "IncidentsRespTo.head()"
   ]
  },
  {
   "cell_type": "code",
   "execution_count": 5,
   "id": "d126f4b0",
   "metadata": {},
   "outputs": [
    {
     "data": {
      "text/plain": [
       "(5093942, 24)"
      ]
     },
     "execution_count": 5,
     "metadata": {},
     "output_type": "execute_result"
    }
   ],
   "source": [
    "# Check data Shape\n",
    "IncidentsRespTo.shape"
   ]
  },
  {
   "cell_type": "code",
   "execution_count": 6,
   "id": "d8cdecab",
   "metadata": {},
   "outputs": [
    {
     "data": {
      "text/plain": [
       "Index(['IM_INCIDENT_KEY', 'FIRE_BOX', 'INCIDENT_TYPE_DESC',\n",
       "       'INCIDENT_DATE_TIME', 'ARRIVAL_DATE_TIME', 'UNITS_ONSCENE',\n",
       "       'LAST_UNIT_CLEARED_DATE_TIME', 'HIGHEST_LEVEL_DESC',\n",
       "       'TOTAL_INCIDENT_DURATION', 'ACTION_TAKEN1_DESC', 'ACTION_TAKEN2_DESC',\n",
       "       'ACTION_TAKEN3_DESC', 'PROPERTY_USE_DESC', 'STREET_HIGHWAY', 'ZIP_CODE',\n",
       "       'BOROUGH_DESC', 'FLOOR', 'CO_DETECTOR_PRESENT_DESC',\n",
       "       'FIRE_ORIGIN_BELOW_GRADE_FLAG', 'STORY_FIRE_ORIGIN_COUNT',\n",
       "       'FIRE_SPREAD_DESC', 'DETECTOR_PRESENCE_DESC', 'AES_PRESENCE_DESC',\n",
       "       'STANDPIPE_SYS_PRESENT_FLAG'],\n",
       "      dtype='object')"
      ]
     },
     "execution_count": 6,
     "metadata": {},
     "output_type": "execute_result"
    }
   ],
   "source": [
    "# Check Data atrributes \n",
    "IncidentsRespTo.columns"
   ]
  },
  {
   "cell_type": "code",
   "execution_count": 7,
   "id": "2a5a2aad",
   "metadata": {},
   "outputs": [
    {
     "data": {
      "text/plain": [
       "STANDPIPE_SYS_PRESENT_FLAG      100.0\n",
       "AES_PRESENCE_DESC               100.0\n",
       "DETECTOR_PRESENCE_DESC          100.0\n",
       "FIRE_SPREAD_DESC                100.0\n",
       "STORY_FIRE_ORIGIN_COUNT         100.0\n",
       "FIRE_ORIGIN_BELOW_GRADE_FLAG    100.0\n",
       "CO_DETECTOR_PRESENT_DESC         99.0\n",
       "ACTION_TAKEN3_DESC               91.0\n",
       "FLOOR                            79.0\n",
       "ACTION_TAKEN2_DESC               78.0\n",
       "ARRIVAL_DATE_TIME                 3.0\n",
       "UNITS_ONSCENE                     3.0\n",
       "STREET_HIGHWAY                    1.0\n",
       "BOROUGH_DESC                      0.0\n",
       "IM_INCIDENT_KEY                   0.0\n",
       "ZIP_CODE                          0.0\n",
       "FIRE_BOX                          0.0\n",
       "ACTION_TAKEN1_DESC                0.0\n",
       "TOTAL_INCIDENT_DURATION           0.0\n",
       "HIGHEST_LEVEL_DESC                0.0\n",
       "LAST_UNIT_CLEARED_DATE_TIME       0.0\n",
       "INCIDENT_DATE_TIME                0.0\n",
       "INCIDENT_TYPE_DESC                0.0\n",
       "PROPERTY_USE_DESC                 0.0\n",
       "dtype: float64"
      ]
     },
     "execution_count": 7,
     "metadata": {},
     "output_type": "execute_result"
    }
   ],
   "source": [
    "# Checking the percentage of missing data of each column\n",
    "missing_data_percentage=round(IncidentsRespTo.isnull().sum()/len(IncidentsRespTo)*100).sort_values(ascending=False)\n",
    "missing_data_percentage"
   ]
  },
  {
   "cell_type": "markdown",
   "id": "5317f717",
   "metadata": {},
   "source": [
    "Fields with a missing data percentage over 90% are assumed to be not useful."
   ]
  },
  {
   "cell_type": "code",
   "execution_count": 8,
   "id": "d497e022",
   "metadata": {},
   "outputs": [],
   "source": [
    "# Drop columns \n",
    "drop_cols = ['STANDPIPE_SYS_PRESENT_FLAG','AES_PRESENCE_DESC','DETECTOR_PRESENCE_DESC',\n",
    "           'FIRE_SPREAD_DESC','STORY_FIRE_ORIGIN_COUNT','FIRE_ORIGIN_BELOW_GRADE_FLAG',\n",
    "           'CO_DETECTOR_PRESENT_DESC','ACTION_TAKEN3_DESC',]\n",
    "IncidentsRespTo.drop(drop_cols, axis=1,inplace=True)"
   ]
  },
  {
   "cell_type": "markdown",
   "id": "0cf6f7dd",
   "metadata": {},
   "source": [
    "The case: records where an on-scene unit arrived but no arrival data. \n",
    "Missing arrival data, the integrity of any analysis regarding response times becomes questionable."
   ]
  },
  {
   "cell_type": "code",
   "execution_count": 9,
   "id": "fe1356ca",
   "metadata": {},
   "outputs": [],
   "source": [
    "# Drop the case: the onscene unit arrived but no arrival date recorded\n",
    "IncidentsRespTo.drop(IncidentsRespTo[ (IncidentsRespTo.ARRIVAL_DATE_TIME.isnull()) & \n",
    "                    (IncidentsRespTo.UNITS_ONSCENE.notnull())].index, inplace=True )"
   ]
  },
  {
   "cell_type": "code",
   "execution_count": 10,
   "id": "46135c26",
   "metadata": {},
   "outputs": [],
   "source": [
    "# Drop dupicates\n",
    "IncidentsRespTo.drop_duplicates(inplace=True)"
   ]
  },
  {
   "cell_type": "code",
   "execution_count": 12,
   "id": "54932b52",
   "metadata": {},
   "outputs": [
    {
     "data": {
      "text/plain": [
       "count    5084430.00\n",
       "mean          24.36\n",
       "std          531.42\n",
       "min            0.00\n",
       "25%           12.47\n",
       "50%           17.52\n",
       "75%           26.08\n",
       "max      1183522.73\n",
       "Name: TOTAL_INCIDENT_DURATION, dtype: float64"
      ]
     },
     "execution_count": 12,
     "metadata": {},
     "output_type": "execute_result"
    }
   ],
   "source": [
    "# Check the Total Incident Duration in minutes \n",
    "(IncidentsRespTo['TOTAL_INCIDENT_DURATION']/60).describe().round(2)"
   ]
  },
  {
   "cell_type": "markdown",
   "id": "7c441e9e",
   "metadata": {},
   "source": [
    "Check records with unusually long total incident durations. If the extreme data values do not make sense, drop them."
   ]
  },
  {
   "cell_type": "code",
   "execution_count": 13,
   "id": "2322b05b",
   "metadata": {},
   "outputs": [
    {
     "data": {
      "text/html": [
       "<div>\n",
       "<style scoped>\n",
       "    .dataframe tbody tr th:only-of-type {\n",
       "        vertical-align: middle;\n",
       "    }\n",
       "\n",
       "    .dataframe tbody tr th {\n",
       "        vertical-align: top;\n",
       "    }\n",
       "\n",
       "    .dataframe thead th {\n",
       "        text-align: right;\n",
       "    }\n",
       "</style>\n",
       "<table border=\"1\" class=\"dataframe\">\n",
       "  <thead>\n",
       "    <tr style=\"text-align: right;\">\n",
       "      <th></th>\n",
       "      <th>IM_INCIDENT_KEY</th>\n",
       "      <th>FIRE_BOX</th>\n",
       "      <th>INCIDENT_TYPE_DESC</th>\n",
       "      <th>INCIDENT_DATE_TIME</th>\n",
       "      <th>ARRIVAL_DATE_TIME</th>\n",
       "      <th>UNITS_ONSCENE</th>\n",
       "      <th>LAST_UNIT_CLEARED_DATE_TIME</th>\n",
       "      <th>HIGHEST_LEVEL_DESC</th>\n",
       "      <th>TOTAL_INCIDENT_DURATION</th>\n",
       "      <th>ACTION_TAKEN1_DESC</th>\n",
       "      <th>ACTION_TAKEN2_DESC</th>\n",
       "      <th>PROPERTY_USE_DESC</th>\n",
       "      <th>STREET_HIGHWAY</th>\n",
       "      <th>ZIP_CODE</th>\n",
       "      <th>BOROUGH_DESC</th>\n",
       "      <th>FLOOR</th>\n",
       "    </tr>\n",
       "  </thead>\n",
       "  <tbody>\n",
       "    <tr>\n",
       "      <th>334258</th>\n",
       "      <td>56525066</td>\n",
       "      <td>1489</td>\n",
       "      <td>300 - Rescue, EMS incident, other</td>\n",
       "      <td>10/27/2013 07:23:53 PM</td>\n",
       "      <td>10/27/2013 07:28:01 PM</td>\n",
       "      <td>1.0</td>\n",
       "      <td>01/27/2016 03:46:37 PM</td>\n",
       "      <td>1 - More than initial alarm, less than Signal 7-5</td>\n",
       "      <td>71011364.0</td>\n",
       "      <td>00 - Action taken, other</td>\n",
       "      <td>NaN</td>\n",
       "      <td>UUU - Undetermined</td>\n",
       "      <td>NaN</td>\n",
       "      <td>10305</td>\n",
       "      <td>3 - Staten Island</td>\n",
       "      <td>NaN</td>\n",
       "    </tr>\n",
       "    <tr>\n",
       "      <th>1761014</th>\n",
       "      <td>60649294</td>\n",
       "      <td>6512</td>\n",
       "      <td>300 - Rescue, EMS incident, other</td>\n",
       "      <td>11/21/2016 10:36:57 AM</td>\n",
       "      <td>11/21/2016 10:39:49 AM</td>\n",
       "      <td>1.0</td>\n",
       "      <td>01/31/2017 08:29:58 PM</td>\n",
       "      <td>1 - More than initial alarm, less than Signal 7-5</td>\n",
       "      <td>6169981.0</td>\n",
       "      <td>00 - Action taken, other</td>\n",
       "      <td>NaN</td>\n",
       "      <td>UUU - Undetermined</td>\n",
       "      <td>DEFAULT RECORD FOR SF</td>\n",
       "      <td>11432</td>\n",
       "      <td>5 - Queens</td>\n",
       "      <td>NaN</td>\n",
       "    </tr>\n",
       "    <tr>\n",
       "      <th>1759672</th>\n",
       "      <td>60644546</td>\n",
       "      <td>8671</td>\n",
       "      <td>300 - Rescue, EMS incident, other</td>\n",
       "      <td>11/20/2016 08:11:36 AM</td>\n",
       "      <td>11/20/2016 08:15:21 AM</td>\n",
       "      <td>1.0</td>\n",
       "      <td>01/30/2017 12:54:05 PM</td>\n",
       "      <td>1 - More than initial alarm, less than Signal 7-5</td>\n",
       "      <td>6151349.0</td>\n",
       "      <td>00 - Action taken, other</td>\n",
       "      <td>NaN</td>\n",
       "      <td>UUU - Undetermined</td>\n",
       "      <td>DEFAULT RECORD FOR SF</td>\n",
       "      <td>11436</td>\n",
       "      <td>5 - Queens</td>\n",
       "      <td>NaN</td>\n",
       "    </tr>\n",
       "    <tr>\n",
       "      <th>3506175</th>\n",
       "      <td>67122302</td>\n",
       "      <td>1624</td>\n",
       "      <td>400 - Hazardous condition, other</td>\n",
       "      <td>08/04/2020 12:45:52 PM</td>\n",
       "      <td>08/04/2020 12:49:28 PM</td>\n",
       "      <td>1.0</td>\n",
       "      <td>08/24/2020 09:33:36 AM</td>\n",
       "      <td>11 - First Alarm</td>\n",
       "      <td>1716464.0</td>\n",
       "      <td>65 - Secure property</td>\n",
       "      <td>NaN</td>\n",
       "      <td>960 - Street, other</td>\n",
       "      <td>EASTERN PKWY</td>\n",
       "      <td>11233</td>\n",
       "      <td>4 - Brooklyn</td>\n",
       "      <td>NaN</td>\n",
       "    </tr>\n",
       "    <tr>\n",
       "      <th>3506235</th>\n",
       "      <td>67122637</td>\n",
       "      <td>761</td>\n",
       "      <td>445 - Arcing, shorted electrical equipment</td>\n",
       "      <td>08/04/2020 12:59:24 PM</td>\n",
       "      <td>08/04/2020 01:06:50 PM</td>\n",
       "      <td>1.0</td>\n",
       "      <td>08/24/2020 09:33:24 AM</td>\n",
       "      <td>11 - First Alarm</td>\n",
       "      <td>1715640.0</td>\n",
       "      <td>82 - Notify other agencies.</td>\n",
       "      <td>NaN</td>\n",
       "      <td>960 - Street, other</td>\n",
       "      <td>HARMAN ST</td>\n",
       "      <td>11237.0</td>\n",
       "      <td>4 - Brooklyn</td>\n",
       "      <td>NaN</td>\n",
       "    </tr>\n",
       "  </tbody>\n",
       "</table>\n",
       "</div>"
      ],
      "text/plain": [
       "         IM_INCIDENT_KEY FIRE_BOX                          INCIDENT_TYPE_DESC  \\\n",
       "334258          56525066     1489           300 - Rescue, EMS incident, other   \n",
       "1761014         60649294     6512           300 - Rescue, EMS incident, other   \n",
       "1759672         60644546     8671           300 - Rescue, EMS incident, other   \n",
       "3506175         67122302     1624            400 - Hazardous condition, other   \n",
       "3506235         67122637      761  445 - Arcing, shorted electrical equipment   \n",
       "\n",
       "             INCIDENT_DATE_TIME       ARRIVAL_DATE_TIME  UNITS_ONSCENE  \\\n",
       "334258   10/27/2013 07:23:53 PM  10/27/2013 07:28:01 PM            1.0   \n",
       "1761014  11/21/2016 10:36:57 AM  11/21/2016 10:39:49 AM            1.0   \n",
       "1759672  11/20/2016 08:11:36 AM  11/20/2016 08:15:21 AM            1.0   \n",
       "3506175  08/04/2020 12:45:52 PM  08/04/2020 12:49:28 PM            1.0   \n",
       "3506235  08/04/2020 12:59:24 PM  08/04/2020 01:06:50 PM            1.0   \n",
       "\n",
       "        LAST_UNIT_CLEARED_DATE_TIME  \\\n",
       "334258       01/27/2016 03:46:37 PM   \n",
       "1761014      01/31/2017 08:29:58 PM   \n",
       "1759672      01/30/2017 12:54:05 PM   \n",
       "3506175      08/24/2020 09:33:36 AM   \n",
       "3506235      08/24/2020 09:33:24 AM   \n",
       "\n",
       "                                        HIGHEST_LEVEL_DESC  \\\n",
       "334258   1 - More than initial alarm, less than Signal 7-5   \n",
       "1761014  1 - More than initial alarm, less than Signal 7-5   \n",
       "1759672  1 - More than initial alarm, less than Signal 7-5   \n",
       "3506175                                   11 - First Alarm   \n",
       "3506235                                   11 - First Alarm   \n",
       "\n",
       "         TOTAL_INCIDENT_DURATION           ACTION_TAKEN1_DESC  \\\n",
       "334258                71011364.0     00 - Action taken, other   \n",
       "1761014                6169981.0     00 - Action taken, other   \n",
       "1759672                6151349.0     00 - Action taken, other   \n",
       "3506175                1716464.0         65 - Secure property   \n",
       "3506235                1715640.0  82 - Notify other agencies.   \n",
       "\n",
       "        ACTION_TAKEN2_DESC    PROPERTY_USE_DESC         STREET_HIGHWAY  \\\n",
       "334258                 NaN   UUU - Undetermined                    NaN   \n",
       "1761014                NaN   UUU - Undetermined  DEFAULT RECORD FOR SF   \n",
       "1759672                NaN   UUU - Undetermined  DEFAULT RECORD FOR SF   \n",
       "3506175                NaN  960 - Street, other           EASTERN PKWY   \n",
       "3506235                NaN  960 - Street, other              HARMAN ST   \n",
       "\n",
       "        ZIP_CODE       BOROUGH_DESC FLOOR  \n",
       "334258     10305  3 - Staten Island   NaN  \n",
       "1761014    11432         5 - Queens   NaN  \n",
       "1759672    11436         5 - Queens   NaN  \n",
       "3506175    11233       4 - Brooklyn   NaN  \n",
       "3506235  11237.0       4 - Brooklyn   NaN  "
      ]
     },
     "execution_count": 13,
     "metadata": {},
     "output_type": "execute_result"
    }
   ],
   "source": [
    "IncidentsRespTo.sort_values(by = 'TOTAL_INCIDENT_DURATION',ascending=False ).head(5)"
   ]
  },
  {
   "cell_type": "markdown",
   "id": "249bd84c",
   "metadata": {},
   "source": [
    "The first three records have total incident duration times that are extremely different from the fourth and fifth last records, where the numbers become very large. They are unusual and should be dropped."
   ]
  },
  {
   "cell_type": "code",
   "execution_count": 14,
   "id": "42e0bd98",
   "metadata": {},
   "outputs": [],
   "source": [
    "# drop the top 3 unusual record \n",
    "IncidentsRespTo.drop(334258, inplace=True)\n",
    "IncidentsRespTo.drop(1761014, inplace=True)\n",
    "IncidentsRespTo.drop(1759672, inplace=True)"
   ]
  },
  {
   "cell_type": "code",
   "execution_count": 15,
   "id": "d57b2b6a",
   "metadata": {},
   "outputs": [
    {
     "name": "stdout",
     "output_type": "stream",
     "text": [
      "<class 'pandas.core.frame.DataFrame'>\n",
      "Index: 5085953 entries, 0 to 5093941\n",
      "Data columns (total 16 columns):\n",
      " #   Column                       Dtype  \n",
      "---  ------                       -----  \n",
      " 0   IM_INCIDENT_KEY              int64  \n",
      " 1   FIRE_BOX                     object \n",
      " 2   INCIDENT_TYPE_DESC           object \n",
      " 3   INCIDENT_DATE_TIME           object \n",
      " 4   ARRIVAL_DATE_TIME            object \n",
      " 5   UNITS_ONSCENE                float64\n",
      " 6   LAST_UNIT_CLEARED_DATE_TIME  object \n",
      " 7   HIGHEST_LEVEL_DESC           object \n",
      " 8   TOTAL_INCIDENT_DURATION      float64\n",
      " 9   ACTION_TAKEN1_DESC           object \n",
      " 10  ACTION_TAKEN2_DESC           object \n",
      " 11  PROPERTY_USE_DESC            object \n",
      " 12  STREET_HIGHWAY               object \n",
      " 13  ZIP_CODE                     object \n",
      " 14  BOROUGH_DESC                 object \n",
      " 15  FLOOR                        object \n",
      "dtypes: float64(2), int64(1), object(13)\n",
      "memory usage: 659.6+ MB\n"
     ]
    }
   ],
   "source": [
    "IncidentsRespTo.info()"
   ]
  },
  {
   "cell_type": "code",
   "execution_count": 16,
   "id": "6817ab99",
   "metadata": {},
   "outputs": [
    {
     "data": {
      "text/plain": [
       "array([10454.0, 10036.0, 11418.0, 11103.0, 11385.0, 11215.0, 10001.0,\n",
       "       10472.0, 11219.0, 10451.0, 10016.0, 10452.0, 10458.0, 10038.0,\n",
       "       10462.0, 11231.0, 10469.0, 10314.0, 99999.0, 11211.0, 11234.0,\n",
       "       10304.0, 10459.0, 11214.0, 11221.0, 11201.0, 11224.0, 10307.0,\n",
       "       10040.0, 10465.0, 11226.0, 10018.0, 10011.0, 11222.0, 11354.0,\n",
       "       10032.0, 10460.0, 10027.0, 10035.0, 11435.0, 10456.0, 10014.0,\n",
       "       11694.0, 10303.0, 11213.0, 10003.0, 11691.0, 10024.0, 11420.0,\n",
       "       11104.0, 10025.0, 11206.0, 11212.0, 10023.0, 10467.0, 10474.0,\n",
       "       10022.0, 11236.0, 11369.0, 10308.0, 10301.0, 11372.0, 10031.0,\n",
       "       10019.0, 11374.0, 10017.0, 10002.0, 11209.0, 11207.0, 10457.0,\n",
       "       11203.0, 10455.0, 10021.0, 10009.0, 11238.0, 10013.0, 11414.0,\n",
       "       11421.0, 10475.0, 10005.0, 10309.0, 11208.0, 10312.0, 11356.0,\n",
       "       11429.0, 11375.0, 11218.0, 10461.0, 11237.0, 11106.0, 11233.0,\n",
       "       11378.0, 11432.0, 11373.0, 10463.0, 11419.0, 11102.0, 10010.0,\n",
       "       10030.0, 10007.0, 10029.0, 11368.0, 10026.0, 11434.0, 10039.0,\n",
       "       11101.0, 10028.0, 11205.0, 11216.0, 11230.0, 10306.0, 11235.0,\n",
       "       11433.0, 11377.0, 10034.0, 10468.0, 11361.0, 11204.0, 10305.0,\n",
       "       11232.0, 10012.0, 10033.0, 11379.0, 11220.0, 11423.0, 11422.0,\n",
       "       10128.0, 11364.0, 11225.0, 11229.0, 10473.0, 11426.0, 11223.0,\n",
       "       11217.0, 11210.0, 11357.0, 11105.0, 10037.0, 11416.0, 10471.0,\n",
       "       10302.0, 10453.0, 11367.0, 11693.0, 11428.0, 10466.0, 11355.0,\n",
       "       11417.0, 11415.0, 11427.0, 11413.0, 10310.0, 11365.0, 10470.0,\n",
       "       11436.0, 11228.0, 11692.0, 11366.0, 11362.0, 11411.0, 11370.0,\n",
       "       11360.0, 11412.0, 11358.0, 10464.0, 11239.0, 11251.0, 10006.0,\n",
       "       11697.0, 10280.0, 11363.0, 10004.0, 11430.0, 10020.0, 11004.0,\n",
       "       11005.0, nan, 11371, 11451, 10044, '11379', '10456', '11215',\n",
       "       '11214', '10019', '10031', '11209', '10001', '10025', '10029',\n",
       "       '11219', '11375', '10002', '99999', '10467', '10037', '10314',\n",
       "       '11236', '11207', '10021', '10469', '11355', '10303', '10310',\n",
       "       '11218', '11368', '10009', '10312', '10027', '10461', '11210',\n",
       "       '10471', '10454', '11223', '10474', '10017', '10039', '11234',\n",
       "       '10457', '10003', '11221', '11206', '10016', '10465', '11411',\n",
       "       '10305', '11101', '11691', '10032', '11423', '11205', '10458',\n",
       "       '10462', '10007', '11201', '10036', '11367', '10018', '11212',\n",
       "       '10468', '11204', '11237', '10453', '10460', '11224', '10455',\n",
       "       '10466', '11233', '11357', '10030', '11222', '10040', '10451',\n",
       "       '11235', '11238', '11208', '10012', '10010', '10473', '11106',\n",
       "       '10038', '11364', '11697', '11354', '11418', '11211', '11220',\n",
       "       '10028', '11228', '11226', '10026', '10128', '11378', '11373',\n",
       "       '10020', '10459', '11385', '10035', '11419', '10301', '11434',\n",
       "       '11433', '10472', '11694', '11103', '10452', '11105', '11421',\n",
       "       '11230', '10463', '11412', '11374', '11415', '10475', '10033',\n",
       "       '11414', '11435', '10024', '11432', '10011', '11203', '11369',\n",
       "       '10023', '11372', '11362', '10004', '10470', '11225', '10013',\n",
       "       '11213', '11360', '11216', '11365', '11426', '10464', '11356',\n",
       "       '11102', '11416', '11232', '11420', '11231', '11413', '11429',\n",
       "       '11361', '11417', '10307', '10304', '11377', '11427', '11229',\n",
       "       '11370', '10306', '10022', '10308', '10302', '11217', '11428',\n",
       "       '11422', '11239', '11004', '11436', '11692', '10034', '10309',\n",
       "       '11693', '10014', '10006', '10005', '11251', '11005', '11371',\n",
       "       '11104', '11430', '11358', '11363', '11366', '11451', '10280',\n",
       "       '10044', '11209-0000', 10691, 7735, '11206-7216'], dtype=object)"
      ]
     },
     "execution_count": 16,
     "metadata": {},
     "output_type": "execute_result"
    }
   ],
   "source": [
    "# Check Zip Code\n",
    "IncidentsRespTo['ZIP_CODE'].unique()"
   ]
  },
  {
   "cell_type": "code",
   "execution_count": 23,
   "id": "07c34b51",
   "metadata": {},
   "outputs": [
    {
     "data": {
      "text/html": [
       "<div>\n",
       "<style scoped>\n",
       "    .dataframe tbody tr th:only-of-type {\n",
       "        vertical-align: middle;\n",
       "    }\n",
       "\n",
       "    .dataframe tbody tr th {\n",
       "        vertical-align: top;\n",
       "    }\n",
       "\n",
       "    .dataframe thead th {\n",
       "        text-align: right;\n",
       "    }\n",
       "</style>\n",
       "<table border=\"1\" class=\"dataframe\">\n",
       "  <thead>\n",
       "    <tr style=\"text-align: right;\">\n",
       "      <th></th>\n",
       "      <th>IM_INCIDENT_KEY</th>\n",
       "      <th>FIRE_BOX</th>\n",
       "      <th>INCIDENT_TYPE_DESC</th>\n",
       "      <th>INCIDENT_DATE_TIME</th>\n",
       "      <th>ARRIVAL_DATE_TIME</th>\n",
       "      <th>UNITS_ONSCENE</th>\n",
       "      <th>LAST_UNIT_CLEARED_DATE_TIME</th>\n",
       "      <th>HIGHEST_LEVEL_DESC</th>\n",
       "      <th>TOTAL_INCIDENT_DURATION</th>\n",
       "      <th>ACTION_TAKEN1_DESC</th>\n",
       "      <th>ACTION_TAKEN2_DESC</th>\n",
       "      <th>PROPERTY_USE_DESC</th>\n",
       "      <th>STREET_HIGHWAY</th>\n",
       "      <th>ZIP_CODE</th>\n",
       "      <th>BOROUGH_DESC</th>\n",
       "      <th>FLOOR</th>\n",
       "    </tr>\n",
       "  </thead>\n",
       "  <tbody>\n",
       "  </tbody>\n",
       "</table>\n",
       "</div>"
      ],
      "text/plain": [
       "Empty DataFrame\n",
       "Columns: [IM_INCIDENT_KEY, FIRE_BOX, INCIDENT_TYPE_DESC, INCIDENT_DATE_TIME, ARRIVAL_DATE_TIME, UNITS_ONSCENE, LAST_UNIT_CLEARED_DATE_TIME, HIGHEST_LEVEL_DESC, TOTAL_INCIDENT_DURATION, ACTION_TAKEN1_DESC, ACTION_TAKEN2_DESC, PROPERTY_USE_DESC, STREET_HIGHWAY, ZIP_CODE, BOROUGH_DESC, FLOOR]\n",
       "Index: []"
      ]
     },
     "execution_count": 23,
     "metadata": {},
     "output_type": "execute_result"
    }
   ],
   "source": [
    "# Check record with unusual Zip code value\n",
    "IncidentsRespTo[IncidentsRespTo['ZIP_CODE'] == '11209-0000']"
   ]
  },
  {
   "cell_type": "code",
   "execution_count": 19,
   "id": "761227b6",
   "metadata": {},
   "outputs": [
    {
     "data": {
      "text/html": [
       "<div>\n",
       "<style scoped>\n",
       "    .dataframe tbody tr th:only-of-type {\n",
       "        vertical-align: middle;\n",
       "    }\n",
       "\n",
       "    .dataframe tbody tr th {\n",
       "        vertical-align: top;\n",
       "    }\n",
       "\n",
       "    .dataframe thead th {\n",
       "        text-align: right;\n",
       "    }\n",
       "</style>\n",
       "<table border=\"1\" class=\"dataframe\">\n",
       "  <thead>\n",
       "    <tr style=\"text-align: right;\">\n",
       "      <th></th>\n",
       "      <th>IM_INCIDENT_KEY</th>\n",
       "      <th>FIRE_BOX</th>\n",
       "      <th>INCIDENT_TYPE_DESC</th>\n",
       "      <th>INCIDENT_DATE_TIME</th>\n",
       "      <th>ARRIVAL_DATE_TIME</th>\n",
       "      <th>UNITS_ONSCENE</th>\n",
       "      <th>LAST_UNIT_CLEARED_DATE_TIME</th>\n",
       "      <th>HIGHEST_LEVEL_DESC</th>\n",
       "      <th>TOTAL_INCIDENT_DURATION</th>\n",
       "      <th>ACTION_TAKEN1_DESC</th>\n",
       "      <th>ACTION_TAKEN2_DESC</th>\n",
       "      <th>PROPERTY_USE_DESC</th>\n",
       "      <th>STREET_HIGHWAY</th>\n",
       "      <th>ZIP_CODE</th>\n",
       "      <th>BOROUGH_DESC</th>\n",
       "      <th>FLOOR</th>\n",
       "    </tr>\n",
       "  </thead>\n",
       "  <tbody>\n",
       "    <tr>\n",
       "      <th>5010194</th>\n",
       "      <td>72109589</td>\n",
       "      <td>783</td>\n",
       "      <td>412 - Gas leak (natural gas or LPG)</td>\n",
       "      <td>09/30/2023 10:32:14 AM</td>\n",
       "      <td>09/30/2023 10:35:20 AM</td>\n",
       "      <td>3.0</td>\n",
       "      <td>09/30/2023 10:42:43 AM</td>\n",
       "      <td>11 - First Alarm</td>\n",
       "      <td>629.0</td>\n",
       "      <td>51 - Ventilate</td>\n",
       "      <td>64 - Shut down system</td>\n",
       "      <td>429 - Multifamily dwelling</td>\n",
       "      <td>LEWIS AVE</td>\n",
       "      <td>11206-7216</td>\n",
       "      <td>4 - Brooklyn</td>\n",
       "      <td>SECOND</td>\n",
       "    </tr>\n",
       "  </tbody>\n",
       "</table>\n",
       "</div>"
      ],
      "text/plain": [
       "         IM_INCIDENT_KEY FIRE_BOX                   INCIDENT_TYPE_DESC  \\\n",
       "5010194         72109589      783  412 - Gas leak (natural gas or LPG)   \n",
       "\n",
       "             INCIDENT_DATE_TIME       ARRIVAL_DATE_TIME  UNITS_ONSCENE  \\\n",
       "5010194  09/30/2023 10:32:14 AM  09/30/2023 10:35:20 AM            3.0   \n",
       "\n",
       "        LAST_UNIT_CLEARED_DATE_TIME HIGHEST_LEVEL_DESC  \\\n",
       "5010194      09/30/2023 10:42:43 AM   11 - First Alarm   \n",
       "\n",
       "         TOTAL_INCIDENT_DURATION ACTION_TAKEN1_DESC     ACTION_TAKEN2_DESC  \\\n",
       "5010194                    629.0     51 - Ventilate  64 - Shut down system   \n",
       "\n",
       "                  PROPERTY_USE_DESC STREET_HIGHWAY    ZIP_CODE  BOROUGH_DESC  \\\n",
       "5010194  429 - Multifamily dwelling      LEWIS AVE  11206-7216  4 - Brooklyn   \n",
       "\n",
       "          FLOOR  \n",
       "5010194  SECOND  "
      ]
     },
     "execution_count": 19,
     "metadata": {},
     "output_type": "execute_result"
    }
   ],
   "source": [
    "# Check record with unusual Zip code value\n",
    "IncidentsRespTo[IncidentsRespTo['ZIP_CODE'] == '11206-7216']"
   ]
  },
  {
   "cell_type": "code",
   "execution_count": 21,
   "id": "6e224df5",
   "metadata": {},
   "outputs": [],
   "source": [
    "# Fix the unusual data as above\n",
    "IncidentsRespTo.at[227295,'ZIP_CODE']='11209'\n",
    "IncidentsRespTo.at[5010194,'ZIP_CODE']='11206'"
   ]
  },
  {
   "cell_type": "code",
   "execution_count": 22,
   "id": "5cc499b2",
   "metadata": {},
   "outputs": [],
   "source": [
    "# Drop null data in ZIP_CODE\n",
    "IncidentsRespTo.dropna(subset=['ZIP_CODE'], inplace=True)\n",
    "# Convert ZIP_CODE  to string\n",
    "IncidentsRespTo['ZIP_CODE']=IncidentsRespTo['ZIP_CODE'].astype(int).astype(str)"
   ]
  },
  {
   "cell_type": "code",
   "execution_count": 24,
   "id": "c511fdc8",
   "metadata": {},
   "outputs": [
    {
     "data": {
      "text/plain": [
       "array(['10454', '10036', '11418', '11103', '11385', '11215', '10001',\n",
       "       '10472', '11219', '10451', '10016', '10452', '10458', '10038',\n",
       "       '10462', '11231', '10469', '10314', '99999', '11211', '11234',\n",
       "       '10304', '10459', '11214', '11221', '11201', '11224', '10307',\n",
       "       '10040', '10465', '11226', '10018', '10011', '11222', '11354',\n",
       "       '10032', '10460', '10027', '10035', '11435', '10456', '10014',\n",
       "       '11694', '10303', '11213', '10003', '11691', '10024', '11420',\n",
       "       '11104', '10025', '11206', '11212', '10023', '10467', '10474',\n",
       "       '10022', '11236', '11369', '10308', '10301', '11372', '10031',\n",
       "       '10019', '11374', '10017', '10002', '11209', '11207', '10457',\n",
       "       '11203', '10455', '10021', '10009', '11238', '10013', '11414',\n",
       "       '11421', '10475', '10005', '10309', '11208', '10312', '11356',\n",
       "       '11429', '11375', '11218', '10461', '11237', '11106', '11233',\n",
       "       '11378', '11432', '11373', '10463', '11419', '11102', '10010',\n",
       "       '10030', '10007', '10029', '11368', '10026', '11434', '10039',\n",
       "       '11101', '10028', '11205', '11216', '11230', '10306', '11235',\n",
       "       '11433', '11377', '10034', '10468', '11361', '11204', '10305',\n",
       "       '11232', '10012', '10033', '11379', '11220', '11423', '11422',\n",
       "       '10128', '11364', '11225', '11229', '10473', '11426', '11223',\n",
       "       '11217', '11210', '11357', '11105', '10037', '11416', '10471',\n",
       "       '10302', '10453', '11367', '11693', '11428', '10466', '11355',\n",
       "       '11417', '11415', '11427', '11413', '10310', '11365', '10470',\n",
       "       '11436', '11228', '11692', '11366', '11362', '11411', '11370',\n",
       "       '11360', '11412', '11358', '10464', '11239', '11251', '10006',\n",
       "       '11697', '10280', '11363', '10004', '11430', '10020', '11004',\n",
       "       '11005', '11371', '11451', '10044', '10691', '7735'], dtype=object)"
      ]
     },
     "execution_count": 24,
     "metadata": {},
     "output_type": "execute_result"
    }
   ],
   "source": [
    "# Check Zip Code after converting\n",
    "IncidentsRespTo['ZIP_CODE'].unique()"
   ]
  },
  {
   "cell_type": "code",
   "execution_count": 25,
   "id": "ea9f4571",
   "metadata": {},
   "outputs": [],
   "source": [
    "# Convert Data-time fields to correct data type\n",
    "IncidentsRespTo['INCIDENT_DATE_TIME'] = pd.to_datetime(IncidentsRespTo['INCIDENT_DATE_TIME'])\n",
    "IncidentsRespTo['ARRIVAL_DATE_TIME'] = pd.to_datetime(IncidentsRespTo['ARRIVAL_DATE_TIME'])\n",
    "IncidentsRespTo['LAST_UNIT_CLEARED_DATE_TIME'] = pd.to_datetime(IncidentsRespTo['LAST_UNIT_CLEARED_DATE_TIME'])"
   ]
  },
  {
   "cell_type": "code",
   "execution_count": 43,
   "id": "d99894d9",
   "metadata": {},
   "outputs": [],
   "source": [
    "# Save the cleaned data\n",
    "IncidentsRespTo.to_csv(\"Incidents_Responded_to_by_Fire_Companies_Cleaned.csv\",index=False)"
   ]
  },
  {
   "cell_type": "markdown",
   "id": "5d5eaeaf",
   "metadata": {},
   "source": [
    "#### Fire Incident Dispatch Data"
   ]
  },
  {
   "cell_type": "code",
   "execution_count": 26,
   "id": "f34d1e04",
   "metadata": {},
   "outputs": [],
   "source": [
    "IncidentsDispatch = pd.read_csv('Fire_Incident_Dispatch_Data.csv')"
   ]
  },
  {
   "cell_type": "code",
   "execution_count": 27,
   "id": "822fca53",
   "metadata": {},
   "outputs": [
    {
     "data": {
      "text/html": [
       "<div>\n",
       "<style scoped>\n",
       "    .dataframe tbody tr th:only-of-type {\n",
       "        vertical-align: middle;\n",
       "    }\n",
       "\n",
       "    .dataframe tbody tr th {\n",
       "        vertical-align: top;\n",
       "    }\n",
       "\n",
       "    .dataframe thead th {\n",
       "        text-align: right;\n",
       "    }\n",
       "</style>\n",
       "<table border=\"1\" class=\"dataframe\">\n",
       "  <thead>\n",
       "    <tr style=\"text-align: right;\">\n",
       "      <th></th>\n",
       "      <th>STARFIRE_INCIDENT_ID</th>\n",
       "      <th>INCIDENT_DATETIME</th>\n",
       "      <th>ALARM_BOX_BOROUGH</th>\n",
       "      <th>ALARM_BOX_NUMBER</th>\n",
       "      <th>ALARM_BOX_LOCATION</th>\n",
       "      <th>INCIDENT_BOROUGH</th>\n",
       "      <th>ZIPCODE</th>\n",
       "      <th>POLICEPRECINCT</th>\n",
       "      <th>CITYCOUNCILDISTRICT</th>\n",
       "      <th>COMMUNITYDISTRICT</th>\n",
       "      <th>...</th>\n",
       "      <th>FIRST_ACTIVATION_DATETIME</th>\n",
       "      <th>FIRST_ON_SCENE_DATETIME</th>\n",
       "      <th>INCIDENT_CLOSE_DATETIME</th>\n",
       "      <th>VALID_DISPATCH_RSPNS_TIME_INDC</th>\n",
       "      <th>VALID_INCIDENT_RSPNS_TIME_INDC</th>\n",
       "      <th>INCIDENT_RESPONSE_SECONDS_QY</th>\n",
       "      <th>INCIDENT_TRAVEL_TM_SECONDS_QY</th>\n",
       "      <th>ENGINES_ASSIGNED_QUANTITY</th>\n",
       "      <th>LADDERS_ASSIGNED_QUANTITY</th>\n",
       "      <th>OTHER_UNITS_ASSIGNED_QUANTITY</th>\n",
       "    </tr>\n",
       "  </thead>\n",
       "  <tbody>\n",
       "    <tr>\n",
       "      <th>0</th>\n",
       "      <td>2100404460110002</td>\n",
       "      <td>01/04/2021 12:01:00 AM</td>\n",
       "      <td>MANHATTAN</td>\n",
       "      <td>446</td>\n",
       "      <td>3 AVE &amp; ST. MARKS PL</td>\n",
       "      <td>MANHATTAN</td>\n",
       "      <td>10003.0</td>\n",
       "      <td>9.0</td>\n",
       "      <td>2.0</td>\n",
       "      <td>103.0</td>\n",
       "      <td>...</td>\n",
       "      <td>01/04/2021 12:02:00 AM</td>\n",
       "      <td>NaN</td>\n",
       "      <td>01/04/2021 12:07:00 AM</td>\n",
       "      <td>N</td>\n",
       "      <td>N</td>\n",
       "      <td>0.0</td>\n",
       "      <td>0.0</td>\n",
       "      <td>1.0</td>\n",
       "      <td>0.0</td>\n",
       "      <td>0.0</td>\n",
       "    </tr>\n",
       "    <tr>\n",
       "      <th>1</th>\n",
       "      <td>2100433250140001</td>\n",
       "      <td>01/04/2021 12:01:00 AM</td>\n",
       "      <td>BROOKLYN</td>\n",
       "      <td>3325</td>\n",
       "      <td>AVENUE O &amp; E 13 ST</td>\n",
       "      <td>BROOKLYN</td>\n",
       "      <td>11230.0</td>\n",
       "      <td>70.0</td>\n",
       "      <td>48.0</td>\n",
       "      <td>314.0</td>\n",
       "      <td>...</td>\n",
       "      <td>01/04/2021 12:02:00 AM</td>\n",
       "      <td>01/04/2021 12:04:00 AM</td>\n",
       "      <td>01/04/2021 12:32:00 AM</td>\n",
       "      <td>N</td>\n",
       "      <td>Y</td>\n",
       "      <td>170.0</td>\n",
       "      <td>165.0</td>\n",
       "      <td>1.0</td>\n",
       "      <td>0.0</td>\n",
       "      <td>0.0</td>\n",
       "    </tr>\n",
       "    <tr>\n",
       "      <th>2</th>\n",
       "      <td>2100411280150003</td>\n",
       "      <td>01/04/2021 12:01:00 AM</td>\n",
       "      <td>QUEENS</td>\n",
       "      <td>1128</td>\n",
       "      <td>MOTT AVE &amp; DICKENS ST</td>\n",
       "      <td>QUEENS</td>\n",
       "      <td>11691.0</td>\n",
       "      <td>101.0</td>\n",
       "      <td>31.0</td>\n",
       "      <td>414.0</td>\n",
       "      <td>...</td>\n",
       "      <td>01/04/2021 12:02:00 AM</td>\n",
       "      <td>NaN</td>\n",
       "      <td>01/04/2021 12:05:00 AM</td>\n",
       "      <td>N</td>\n",
       "      <td>N</td>\n",
       "      <td>0.0</td>\n",
       "      <td>0.0</td>\n",
       "      <td>1.0</td>\n",
       "      <td>0.0</td>\n",
       "      <td>0.0</td>\n",
       "    </tr>\n",
       "    <tr>\n",
       "      <th>3</th>\n",
       "      <td>2100416590110004</td>\n",
       "      <td>01/04/2021 12:02:00 AM</td>\n",
       "      <td>MANHATTAN</td>\n",
       "      <td>1659</td>\n",
       "      <td>BROADWAY &amp; 153 ST</td>\n",
       "      <td>MANHATTAN</td>\n",
       "      <td>10031.0</td>\n",
       "      <td>30.0</td>\n",
       "      <td>7.0</td>\n",
       "      <td>109.0</td>\n",
       "      <td>...</td>\n",
       "      <td>01/04/2021 12:02:00 AM</td>\n",
       "      <td>01/04/2021 12:07:00 AM</td>\n",
       "      <td>01/04/2021 12:31:00 AM</td>\n",
       "      <td>N</td>\n",
       "      <td>Y</td>\n",
       "      <td>318.0</td>\n",
       "      <td>314.0</td>\n",
       "      <td>1.0</td>\n",
       "      <td>0.0</td>\n",
       "      <td>0.0</td>\n",
       "    </tr>\n",
       "    <tr>\n",
       "      <th>4</th>\n",
       "      <td>2100413490110006</td>\n",
       "      <td>01/04/2021 12:02:00 AM</td>\n",
       "      <td>MANHATTAN</td>\n",
       "      <td>1349</td>\n",
       "      <td>5 AVE &amp; 112 ST</td>\n",
       "      <td>MANHATTAN</td>\n",
       "      <td>10026.0</td>\n",
       "      <td>28.0</td>\n",
       "      <td>9.0</td>\n",
       "      <td>110.0</td>\n",
       "      <td>...</td>\n",
       "      <td>01/04/2021 12:03:00 AM</td>\n",
       "      <td>01/04/2021 12:17:00 AM</td>\n",
       "      <td>01/04/2021 12:18:00 AM</td>\n",
       "      <td>N</td>\n",
       "      <td>Y</td>\n",
       "      <td>871.0</td>\n",
       "      <td>834.0</td>\n",
       "      <td>1.0</td>\n",
       "      <td>0.0</td>\n",
       "      <td>0.0</td>\n",
       "    </tr>\n",
       "  </tbody>\n",
       "</table>\n",
       "<p>5 rows × 29 columns</p>\n",
       "</div>"
      ],
      "text/plain": [
       "  STARFIRE_INCIDENT_ID       INCIDENT_DATETIME ALARM_BOX_BOROUGH  \\\n",
       "0     2100404460110002  01/04/2021 12:01:00 AM         MANHATTAN   \n",
       "1     2100433250140001  01/04/2021 12:01:00 AM          BROOKLYN   \n",
       "2     2100411280150003  01/04/2021 12:01:00 AM            QUEENS   \n",
       "3     2100416590110004  01/04/2021 12:02:00 AM         MANHATTAN   \n",
       "4     2100413490110006  01/04/2021 12:02:00 AM         MANHATTAN   \n",
       "\n",
       "   ALARM_BOX_NUMBER     ALARM_BOX_LOCATION INCIDENT_BOROUGH  ZIPCODE  \\\n",
       "0               446   3 AVE & ST. MARKS PL        MANHATTAN  10003.0   \n",
       "1              3325     AVENUE O & E 13 ST         BROOKLYN  11230.0   \n",
       "2              1128  MOTT AVE & DICKENS ST           QUEENS  11691.0   \n",
       "3              1659      BROADWAY & 153 ST        MANHATTAN  10031.0   \n",
       "4              1349         5 AVE & 112 ST        MANHATTAN  10026.0   \n",
       "\n",
       "   POLICEPRECINCT  CITYCOUNCILDISTRICT  COMMUNITYDISTRICT  ...  \\\n",
       "0             9.0                  2.0              103.0  ...   \n",
       "1            70.0                 48.0              314.0  ...   \n",
       "2           101.0                 31.0              414.0  ...   \n",
       "3            30.0                  7.0              109.0  ...   \n",
       "4            28.0                  9.0              110.0  ...   \n",
       "\n",
       "   FIRST_ACTIVATION_DATETIME  FIRST_ON_SCENE_DATETIME INCIDENT_CLOSE_DATETIME  \\\n",
       "0     01/04/2021 12:02:00 AM                      NaN  01/04/2021 12:07:00 AM   \n",
       "1     01/04/2021 12:02:00 AM   01/04/2021 12:04:00 AM  01/04/2021 12:32:00 AM   \n",
       "2     01/04/2021 12:02:00 AM                      NaN  01/04/2021 12:05:00 AM   \n",
       "3     01/04/2021 12:02:00 AM   01/04/2021 12:07:00 AM  01/04/2021 12:31:00 AM   \n",
       "4     01/04/2021 12:03:00 AM   01/04/2021 12:17:00 AM  01/04/2021 12:18:00 AM   \n",
       "\n",
       "  VALID_DISPATCH_RSPNS_TIME_INDC VALID_INCIDENT_RSPNS_TIME_INDC  \\\n",
       "0                              N                              N   \n",
       "1                              N                              Y   \n",
       "2                              N                              N   \n",
       "3                              N                              Y   \n",
       "4                              N                              Y   \n",
       "\n",
       "  INCIDENT_RESPONSE_SECONDS_QY INCIDENT_TRAVEL_TM_SECONDS_QY  \\\n",
       "0                          0.0                           0.0   \n",
       "1                        170.0                         165.0   \n",
       "2                          0.0                           0.0   \n",
       "3                        318.0                         314.0   \n",
       "4                        871.0                         834.0   \n",
       "\n",
       "   ENGINES_ASSIGNED_QUANTITY LADDERS_ASSIGNED_QUANTITY  \\\n",
       "0                        1.0                       0.0   \n",
       "1                        1.0                       0.0   \n",
       "2                        1.0                       0.0   \n",
       "3                        1.0                       0.0   \n",
       "4                        1.0                       0.0   \n",
       "\n",
       "  OTHER_UNITS_ASSIGNED_QUANTITY  \n",
       "0                           0.0  \n",
       "1                           0.0  \n",
       "2                           0.0  \n",
       "3                           0.0  \n",
       "4                           0.0  \n",
       "\n",
       "[5 rows x 29 columns]"
      ]
     },
     "execution_count": 27,
     "metadata": {},
     "output_type": "execute_result"
    }
   ],
   "source": [
    "IncidentsDispatch.head()"
   ]
  },
  {
   "cell_type": "code",
   "execution_count": 28,
   "id": "e952910a",
   "metadata": {},
   "outputs": [
    {
     "data": {
      "text/plain": [
       "(10275092, 29)"
      ]
     },
     "execution_count": 28,
     "metadata": {},
     "output_type": "execute_result"
    }
   ],
   "source": [
    "IncidentsDispatch.shape"
   ]
  },
  {
   "cell_type": "code",
   "execution_count": 29,
   "id": "b5b2fac9",
   "metadata": {},
   "outputs": [
    {
     "data": {
      "text/plain": [
       "FIRST_ON_SCENE_DATETIME           16.0\n",
       "CITYCOUNCILDISTRICT                6.0\n",
       "COMMUNITYDISTRICT                  6.0\n",
       "CONGRESSIONALDISTRICT              6.0\n",
       "ZIPCODE                            6.0\n",
       "POLICEPRECINCT                     6.0\n",
       "COMMUNITYSCHOOLDISTRICT            6.0\n",
       "INCIDENT_TRAVEL_TM_SECONDS_QY      4.0\n",
       "INCIDENT_RESPONSE_SECONDS_QY       4.0\n",
       "FIRST_ACTIVATION_DATETIME          1.0\n",
       "FIRST_ASSIGNMENT_DATETIME          0.0\n",
       "ENGINES_ASSIGNED_QUANTITY          0.0\n",
       "VALID_INCIDENT_RSPNS_TIME_INDC     0.0\n",
       "VALID_DISPATCH_RSPNS_TIME_INDC     0.0\n",
       "INCIDENT_CLOSE_DATETIME            0.0\n",
       "LADDERS_ASSIGNED_QUANTITY          0.0\n",
       "STARFIRE_INCIDENT_ID               0.0\n",
       "HIGHEST_ALARM_LEVEL                0.0\n",
       "DISPATCH_RESPONSE_SECONDS_QY       0.0\n",
       "INCIDENT_CLASSIFICATION_GROUP      0.0\n",
       "INCIDENT_CLASSIFICATION            0.0\n",
       "INCIDENT_DATETIME                  0.0\n",
       "ALARM_LEVEL_INDEX_DESCRIPTION      0.0\n",
       "ALARM_SOURCE_DESCRIPTION_TX        0.0\n",
       "INCIDENT_BOROUGH                   0.0\n",
       "ALARM_BOX_LOCATION                 0.0\n",
       "ALARM_BOX_NUMBER                   0.0\n",
       "ALARM_BOX_BOROUGH                  0.0\n",
       "OTHER_UNITS_ASSIGNED_QUANTITY      0.0\n",
       "dtype: float64"
      ]
     },
     "execution_count": 29,
     "metadata": {},
     "output_type": "execute_result"
    }
   ],
   "source": [
    "# Checking the percentage of missing data of each column\n",
    "missing_data_percentage=round(IncidentsDispatch.isnull().sum()/len(IncidentsDispatch)*100).sort_values(ascending=False)\n",
    "missing_data_percentage"
   ]
  },
  {
   "cell_type": "markdown",
   "id": "e292c7a2",
   "metadata": {},
   "source": [
    "None of the columns shown have missing data over 90%. Keep all columns"
   ]
  },
  {
   "cell_type": "markdown",
   "id": "0670a458",
   "metadata": {},
   "source": [
    "VALID_DISPATCH_RSPNS_TIME_INDC: Indicates that the components comprising the generation of the DISPATCH_RESPONSE_SECONDS_QY are valid.\n",
    "\n",
    "DISPATCH_RESPONSE_SECONDS_QY: The elapsed time in seconds between the incident_datetime and the first_assignment_datetime.\n",
    "\n",
    "VALID_INCIDENT_RSPNS_TIME_INDC: Indicates that the components comprising the generation of the INCIDENT_RESPONSE_SECONDS_QY are valid.\n",
    "\n",
    "INCIDENT_RESPONSE_SECONDS_QY: The elapsed time in seconds between the incident_datetime and the first_onscene_datetime.\n",
    "\n",
    "Filter the record with the DISPATCH_RESPONSE_SECONDS_QY invalid"
   ]
  },
  {
   "cell_type": "code",
   "execution_count": 30,
   "id": "d8d39489",
   "metadata": {},
   "outputs": [
    {
     "data": {
      "text/plain": [
       "array(['N', 'Y'], dtype=object)"
      ]
     },
     "execution_count": 30,
     "metadata": {},
     "output_type": "execute_result"
    }
   ],
   "source": [
    "IncidentsDispatch['VALID_INCIDENT_RSPNS_TIME_INDC'].unique()"
   ]
  },
  {
   "cell_type": "code",
   "execution_count": 31,
   "id": "6e492e68",
   "metadata": {},
   "outputs": [
    {
     "data": {
      "text/plain": [
       "19.57654491074143"
      ]
     },
     "execution_count": 31,
     "metadata": {},
     "output_type": "execute_result"
    }
   ],
   "source": [
    "len(IncidentsDispatch[IncidentsDispatch['VALID_INCIDENT_RSPNS_TIME_INDC']=='N'])/len(IncidentsDispatch)*100"
   ]
  },
  {
   "cell_type": "markdown",
   "id": "c94abc01",
   "metadata": {},
   "source": [
    "There are 19.58% with invalid incident response time INCIDENT_RESPONSE_SECONDS_QY. Just because the response time is invalid doesn't necessarily mean that the entire incident record is invalid. Keep them.\n",
    "\n",
    "Considerting: whether it's possible to have a valid incident with invalid FIRST_ON_SCENE_DATETIME data? An incident can be valid in terms of its occurrence and the response it generated, but there might be issues with how the time data was recorded or transmitted, resulting in an invalid time entry."
   ]
  },
  {
   "cell_type": "code",
   "execution_count": 32,
   "id": "a87225a1",
   "metadata": {},
   "outputs": [
    {
     "data": {
      "text/plain": [
       "array(['N'], dtype=object)"
      ]
     },
     "execution_count": 32,
     "metadata": {},
     "output_type": "execute_result"
    }
   ],
   "source": [
    "IncidentsDispatch['VALID_DISPATCH_RSPNS_TIME_INDC'].unique()"
   ]
  },
  {
   "cell_type": "markdown",
   "id": "c2227545",
   "metadata": {},
   "source": [
    "All records with an invalid dispatch response time render the VALID_INCIDENT_RSPNS_TIME_INDC field meaningless in this dataframe; therefore, no action will be taken based on this particular finding."
   ]
  },
  {
   "cell_type": "code",
   "execution_count": 33,
   "id": "f584c30c",
   "metadata": {},
   "outputs": [
    {
     "data": {
      "text/plain": [
       "count    10274156.00\n",
       "mean           38.67\n",
       "std           296.54\n",
       "min             0.00\n",
       "25%             8.00\n",
       "50%            16.00\n",
       "75%            44.00\n",
       "max        405447.00\n",
       "Name: DISPATCH_RESPONSE_SECONDS_QY, dtype: float64"
      ]
     },
     "execution_count": 33,
     "metadata": {},
     "output_type": "execute_result"
    }
   ],
   "source": [
    "IncidentsDispatch['DISPATCH_RESPONSE_SECONDS_QY'].describe().round(2)"
   ]
  },
  {
   "cell_type": "code",
   "execution_count": 34,
   "id": "8132e3d5",
   "metadata": {},
   "outputs": [
    {
     "data": {
      "text/plain": [
       "4.692673611111111"
      ]
     },
     "execution_count": 34,
     "metadata": {},
     "output_type": "execute_result"
    }
   ],
   "source": [
    "# The maximum DISPATCH_RESPONSE last for about 4.7 days, which is not reasonable\n",
    "405447/60/60/24"
   ]
  },
  {
   "cell_type": "code",
   "execution_count": 35,
   "id": "da54c159",
   "metadata": {},
   "outputs": [
    {
     "data": {
      "text/plain": [
       "1.2476481962399948"
      ]
     },
     "execution_count": 35,
     "metadata": {},
     "output_type": "execute_result"
    }
   ],
   "source": [
    "# Check the proportion of incidents with a dispatch response time exceeding five minutes.\n",
    "len(IncidentsDispatch[IncidentsDispatch.DISPATCH_RESPONSE_SECONDS_QY>60*5])/len(IncidentsDispatch)*100"
   ]
  },
  {
   "cell_type": "markdown",
   "id": "a176b76f",
   "metadata": {},
   "source": [
    "Keep incidents with a dispatch response time within 5 minutes\n",
    "\n",
    "https://www.iaff.org/wp-content/uploads/Departments/Fire_EMS_Department/30541_Summary_Sheet_NFPA_1710_standard.pdf"
   ]
  },
  {
   "cell_type": "code",
   "execution_count": 36,
   "id": "23c56e34",
   "metadata": {},
   "outputs": [],
   "source": [
    "IncidentsDispatch.drop(IncidentsDispatch[\n",
    "    IncidentsDispatch.DISPATCH_RESPONSE_SECONDS_QY>60*5].index, inplace=True)"
   ]
  },
  {
   "cell_type": "code",
   "execution_count": 37,
   "id": "4533f4a7",
   "metadata": {},
   "outputs": [
    {
     "data": {
      "text/plain": [
       "array([10003., 11230., 11691., 10031., 10026., 11692., 11373., 10452.,\n",
       "       10304., 11207., 10473., 10002., 10468., 10451., 11356., 11206.,\n",
       "       11367., 10009., 10038., 11212., 10303., 10035.,    nan, 11236.,\n",
       "       11433., 11223., 10032., 10459., 11220., 10457., 10467., 10029.,\n",
       "       11103., 11233., 11226., 10453., 10458., 11203., 10036., 10456.,\n",
       "       10460., 11219., 10001., 10128., 11434., 10305., 10469., 10025.,\n",
       "       10454., 11204., 11208., 11427., 11221., 11101., 11239., 11423.,\n",
       "       11222., 10037., 11209., 10475., 11234., 10028., 11210., 10040.,\n",
       "       11224., 11216., 11232., 11412., 10470., 11377., 11229., 10030.,\n",
       "       10462., 10314., 10027., 11218., 11217., 11225., 10463., 11106.,\n",
       "       11432., 11235., 10018., 10039., 10301., 10472., 11201., 11378.,\n",
       "       10024., 11214., 11417., 10309., 10021., 11228., 11211., 10306.,\n",
       "       11102., 11213., 10023., 10016., 11231., 11249., 10471., 11418.,\n",
       "       10020., 10010., 10312., 10034., 11354., 11416., 11422., 10465.,\n",
       "       11693., 11205., 11362., 11420., 10033., 10019., 10466., 11237.,\n",
       "       10455., 10310., 11370., 11365., 11368., 10474., 10017., 11355.,\n",
       "       10011., 11372., 10022., 10075., 11385., 11414., 11374., 11375.,\n",
       "       11360., 11357., 11435., 11379., 10014., 11428., 10302., 10280.,\n",
       "       11215., 11104., 10065., 11411., 11361., 11004., 10041., 11238.,\n",
       "       11421., 10461., 11426., 10005., 10013., 11358., 11694., 11429.,\n",
       "       11413., 11369., 11419., 10012., 10121., 11366., 10307., 11105.,\n",
       "       11697., 10169., 10007., 11109., 10004., 11001., 11436., 10172.,\n",
       "       10464., 11040., 10308., 10118., 10278., 11415., 11363., 11364.,\n",
       "       10123., 10168., 11430., 10282., 10044., 11242., 10177., 10069.,\n",
       "       10173., 10279., 10165., 10006., 11005., 10281., 10122., 10112.,\n",
       "       10106., 12345., 11695., 10162., 10179., 10271., 10045., 10154.,\n",
       "       10120., 10178., 10119., 10153., 10158., 10111., 10055., 10171.,\n",
       "       10000., 10170., 10151., 10167., 10115., 10103., 10155., 10105.,\n",
       "       10107., 10110., 10174., 10152., 11251., 11359., 10176., 10048.,\n",
       "       11371., 11241., 10175., 10166., 10129., 10803.])"
      ]
     },
     "execution_count": 37,
     "metadata": {},
     "output_type": "execute_result"
    }
   ],
   "source": [
    "# Check ZIPCODE\n",
    "IncidentsDispatch['ZIPCODE'].unique()"
   ]
  },
  {
   "cell_type": "code",
   "execution_count": 38,
   "id": "0415c738",
   "metadata": {},
   "outputs": [],
   "source": [
    "# Drop dupicates\n",
    "IncidentsDispatch.drop_duplicates(inplace=True)"
   ]
  },
  {
   "cell_type": "code",
   "execution_count": 39,
   "id": "13fdd7f3",
   "metadata": {},
   "outputs": [
    {
     "data": {
      "text/plain": [
       "(10146894, 29)"
      ]
     },
     "execution_count": 39,
     "metadata": {},
     "output_type": "execute_result"
    }
   ],
   "source": [
    "IncidentsDispatch.shape"
   ]
  },
  {
   "cell_type": "code",
   "execution_count": 40,
   "id": "acca8a0d",
   "metadata": {},
   "outputs": [
    {
     "name": "stdout",
     "output_type": "stream",
     "text": [
      "<class 'pandas.core.frame.DataFrame'>\n",
      "Index: 10146894 entries, 0 to 10275091\n",
      "Data columns (total 29 columns):\n",
      " #   Column                          Dtype  \n",
      "---  ------                          -----  \n",
      " 0   STARFIRE_INCIDENT_ID            object \n",
      " 1   INCIDENT_DATETIME               object \n",
      " 2   ALARM_BOX_BOROUGH               object \n",
      " 3   ALARM_BOX_NUMBER                int64  \n",
      " 4   ALARM_BOX_LOCATION              object \n",
      " 5   INCIDENT_BOROUGH                object \n",
      " 6   ZIPCODE                         float64\n",
      " 7   POLICEPRECINCT                  float64\n",
      " 8   CITYCOUNCILDISTRICT             float64\n",
      " 9   COMMUNITYDISTRICT               float64\n",
      " 10  COMMUNITYSCHOOLDISTRICT         float64\n",
      " 11  CONGRESSIONALDISTRICT           float64\n",
      " 12  ALARM_SOURCE_DESCRIPTION_TX     object \n",
      " 13  ALARM_LEVEL_INDEX_DESCRIPTION   object \n",
      " 14  HIGHEST_ALARM_LEVEL             object \n",
      " 15  INCIDENT_CLASSIFICATION         object \n",
      " 16  INCIDENT_CLASSIFICATION_GROUP   object \n",
      " 17  DISPATCH_RESPONSE_SECONDS_QY    float64\n",
      " 18  FIRST_ASSIGNMENT_DATETIME       object \n",
      " 19  FIRST_ACTIVATION_DATETIME       object \n",
      " 20  FIRST_ON_SCENE_DATETIME         object \n",
      " 21  INCIDENT_CLOSE_DATETIME         object \n",
      " 22  VALID_DISPATCH_RSPNS_TIME_INDC  object \n",
      " 23  VALID_INCIDENT_RSPNS_TIME_INDC  object \n",
      " 24  INCIDENT_RESPONSE_SECONDS_QY    float64\n",
      " 25  INCIDENT_TRAVEL_TM_SECONDS_QY   float64\n",
      " 26  ENGINES_ASSIGNED_QUANTITY       float64\n",
      " 27  LADDERS_ASSIGNED_QUANTITY       float64\n",
      " 28  OTHER_UNITS_ASSIGNED_QUANTITY   float64\n",
      "dtypes: float64(12), int64(1), object(16)\n",
      "memory usage: 2.3+ GB\n"
     ]
    }
   ],
   "source": [
    "IncidentsDispatch.info()"
   ]
  },
  {
   "cell_type": "code",
   "execution_count": 42,
   "id": "79a99960",
   "metadata": {},
   "outputs": [],
   "source": [
    "# Convert Data-time fields to correct data type\n",
    "IncidentsDispatch['INCIDENT_DATETIME'] = pd.to_datetime(IncidentsDispatch['INCIDENT_DATETIME'])\n",
    "IncidentsDispatch['FIRST_ASSIGNMENT_DATETIME'] = pd.to_datetime(IncidentsDispatch['FIRST_ASSIGNMENT_DATETIME'])\n",
    "IncidentsDispatch['FIRST_ACTIVATION_DATETIME'] = pd.to_datetime(IncidentsDispatch['FIRST_ACTIVATION_DATETIME'])\n",
    "IncidentsDispatch['FIRST_ON_SCENE_DATETIME'] = pd.to_datetime(IncidentsDispatch['FIRST_ON_SCENE_DATETIME'])\n",
    "IncidentsDispatch['INCIDENT_CLOSE_DATETIME'] = pd.to_datetime(IncidentsDispatch['INCIDENT_CLOSE_DATETIME'])"
   ]
  },
  {
   "cell_type": "code",
   "execution_count": 44,
   "id": "521039e8",
   "metadata": {},
   "outputs": [],
   "source": [
    "# Save the cleaned data\n",
    "IncidentsDispatch.to_csv(\"Fire_Incident_Dispatch_Data_Cleaned.csv\",index=False)"
   ]
  },
  {
   "cell_type": "code",
   "execution_count": null,
   "id": "4517bc1a",
   "metadata": {},
   "outputs": [],
   "source": []
  }
 ],
 "metadata": {
  "kernelspec": {
   "display_name": "Python 3 (ipykernel)",
   "language": "python",
   "name": "python3"
  },
  "language_info": {
   "codemirror_mode": {
    "name": "ipython",
    "version": 3
   },
   "file_extension": ".py",
   "mimetype": "text/x-python",
   "name": "python",
   "nbconvert_exporter": "python",
   "pygments_lexer": "ipython3",
   "version": "3.9.12"
  }
 },
 "nbformat": 4,
 "nbformat_minor": 5
}
